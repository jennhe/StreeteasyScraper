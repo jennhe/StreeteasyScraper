{
 "cells": [
  {
   "cell_type": "code",
   "execution_count": 4,
   "metadata": {},
   "outputs": [],
   "source": [
    "import pandas as pd\n",
    "import csv\n",
    "import numpy as np\n",
    "from bs4 import BeautifulSoup\n",
    "import requests\n"
   ]
  },
  {
   "cell_type": "code",
   "execution_count": 2,
   "metadata": {},
   "outputs": [
    {
     "ename": "FileNotFoundError",
     "evalue": "[Errno 2] No such file or directory: '424W47 Building Comps.csv'",
     "output_type": "error",
     "traceback": [
      "\u001b[0;31m---------------------------------------------------------------------------\u001b[0m",
      "\u001b[0;31mFileNotFoundError\u001b[0m                         Traceback (most recent call last)",
      "\u001b[0;32m<ipython-input-2-6d7d29141c01>\u001b[0m in \u001b[0;36m<module>\u001b[0;34m()\u001b[0m\n\u001b[1;32m      2\u001b[0m \u001b[0mlinks\u001b[0m \u001b[0;34m=\u001b[0m \u001b[0;34m[\u001b[0m\u001b[0;34m]\u001b[0m\u001b[0;34m\u001b[0m\u001b[0m\n\u001b[1;32m      3\u001b[0m \u001b[0;34m\u001b[0m\u001b[0m\n\u001b[0;32m----> 4\u001b[0;31m \u001b[0;32mwith\u001b[0m \u001b[0mopen\u001b[0m\u001b[0;34m(\u001b[0m\u001b[0;34m'424W47 Building Comps.csv'\u001b[0m\u001b[0;34m)\u001b[0m \u001b[0;32mas\u001b[0m \u001b[0mfile\u001b[0m\u001b[0;34m:\u001b[0m\u001b[0;34m\u001b[0m\u001b[0m\n\u001b[0m\u001b[1;32m      5\u001b[0m     \u001b[0;32mfor\u001b[0m \u001b[0mrow\u001b[0m \u001b[0;32min\u001b[0m \u001b[0mfile\u001b[0m\u001b[0;34m:\u001b[0m\u001b[0;34m\u001b[0m\u001b[0m\n\u001b[1;32m      6\u001b[0m         \u001b[0maddresses\u001b[0m\u001b[0;34m.\u001b[0m\u001b[0mappend\u001b[0m\u001b[0;34m(\u001b[0m\u001b[0;34m(\u001b[0m\u001b[0mrow\u001b[0m\u001b[0;34m.\u001b[0m\u001b[0msplit\u001b[0m\u001b[0;34m(\u001b[0m\u001b[0;34m','\u001b[0m\u001b[0;34m)\u001b[0m\u001b[0;34m[\u001b[0m\u001b[0;36m0\u001b[0m\u001b[0;34m]\u001b[0m\u001b[0;34m,\u001b[0m \u001b[0mrow\u001b[0m\u001b[0;34m.\u001b[0m\u001b[0msplit\u001b[0m\u001b[0;34m(\u001b[0m\u001b[0;34m','\u001b[0m\u001b[0;34m)\u001b[0m\u001b[0;34m[\u001b[0m\u001b[0;36m1\u001b[0m\u001b[0;34m]\u001b[0m\u001b[0;34m.\u001b[0m\u001b[0msplit\u001b[0m\u001b[0;34m(\u001b[0m\u001b[0;34m'\\n'\u001b[0m\u001b[0;34m)\u001b[0m\u001b[0;34m[\u001b[0m\u001b[0;36m0\u001b[0m\u001b[0;34m]\u001b[0m\u001b[0;34m)\u001b[0m\u001b[0;34m)\u001b[0m\u001b[0;34m\u001b[0m\u001b[0m\n",
      "\u001b[0;31mFileNotFoundError\u001b[0m: [Errno 2] No such file or directory: '424W47 Building Comps.csv'"
     ]
    }
   ],
   "source": [
    "addresses = []\n",
    "links = []\n",
    "\n",
    "with open('424W47 Building Comps.csv') as file:\n",
    "    for row in file:\n",
    "        addresses.append((row.split(',')[0], row.split(',')[1].split('\\n')[0]))"
   ]
  },
  {
   "cell_type": "code",
   "execution_count": null,
   "metadata": {},
   "outputs": [],
   "source": [
    "addresses"
   ]
  },
  {
   "cell_type": "code",
   "execution_count": null,
   "metadata": {
    "collapsed": true
   },
   "outputs": [],
   "source": [
    "addresses = []\n",
    "links = []\n",
    "\n",
    "with open('424W47 Building Comps.csv') as file:\n",
    "    for row in file:\n",
    "        try:\n",
    "            addresses.append((row.split(',')[0].split('\\ufeff')[1], row.split(',')[1].split('\\n')[0]))\n",
    "        except IndexError:\n",
    "            addresses.append((row.split(',')[0], row.split(',')[1].split('\\n')[0]))"
   ]
  },
  {
   "cell_type": "code",
   "execution_count": null,
   "metadata": {},
   "outputs": [],
   "source": [
    "addresses"
   ]
  },
  {
   "cell_type": "code",
   "execution_count": null,
   "metadata": {
    "collapsed": true
   },
   "outputs": [],
   "source": [
    "for address in addresses:\n",
    "    try:\n",
    "        links.append('https://streeteasy.com/building/' + \\\n",
    "                        address[0].split(' ')[0] + '-' + \\\n",
    "                        address[0].split(' ')[1] + '-' + \\\n",
    "                        address[0].split(' ')[2] + '-' + \\\n",
    "                        address[0].split(' ')[3])\n",
    "    except IndexError:\n",
    "        links.append('https://streeteasy.com/building/' + \\\n",
    "                        address[0].split(' ')[0] + '-' + \\\n",
    "                        address[0].split(' ')[1] + '-' + \\\n",
    "                        address[0].split(' ')[2])"
   ]
  },
  {
   "cell_type": "code",
   "execution_count": null,
   "metadata": {},
   "outputs": [],
   "source": [
    "links"
   ]
  },
  {
   "cell_type": "code",
   "execution_count": 65,
   "metadata": {},
   "outputs": [
    {
     "name": "stdout",
     "output_type": "stream",
     "text": [
      "<Response [405]>\n",
      "<Response [405]>\n",
      "<Response [405]>\n",
      "<Response [405]>\n",
      "<Response [405]>\n",
      "<Response [405]>\n",
      "<Response [405]>\n",
      "<Response [405]>\n",
      "<Response [405]>\n",
      "<Response [405]>\n",
      "<Response [405]>\n",
      "<Response [405]>\n",
      "<Response [405]>\n",
      "<Response [405]>\n",
      "<Response [405]>\n",
      "<Response [405]>\n",
      "<Response [405]>\n",
      "<Response [405]>\n",
      "<Response [405]>\n",
      "<Response [405]>\n",
      "<Response [405]>\n",
      "<Response [405]>\n",
      "<Response [405]>\n",
      "<Response [405]>\n",
      "<Response [405]>\n",
      "<Response [405]>\n",
      "<Response [405]>\n",
      "<Response [405]>\n",
      "<Response [405]>\n",
      "<Response [405]>\n",
      "<Response [405]>\n",
      "<Response [405]>\n",
      "<Response [405]>\n",
      "<Response [405]>\n",
      "<Response [405]>\n",
      "<Response [405]>\n",
      "<Response [405]>\n",
      "<Response [405]>\n",
      "<Response [405]>\n",
      "<Response [405]>\n",
      "<Response [405]>\n",
      "<Response [405]>\n",
      "<Response [405]>\n",
      "<Response [405]>\n",
      "<Response [405]>\n",
      "<Response [405]>\n",
      "<Response [405]>\n",
      "<Response [405]>\n",
      "<Response [405]>\n",
      "<Response [405]>\n",
      "<Response [405]>\n",
      "<Response [405]>\n",
      "<Response [405]>\n",
      "<Response [405]>\n",
      "<Response [405]>\n",
      "<Response [405]>\n",
      "<Response [405]>\n",
      "<Response [405]>\n",
      "<Response [405]>\n",
      "<Response [405]>\n",
      "<Response [405]>\n",
      "<Response [405]>\n",
      "<Response [405]>\n",
      "<Response [405]>\n",
      "<Response [405]>\n",
      "<Response [405]>\n",
      "<Response [405]>\n",
      "<Response [405]>\n",
      "<Response [405]>\n",
      "<Response [405]>\n",
      "<Response [405]>\n",
      "<Response [405]>\n",
      "<Response [405]>\n",
      "<Response [405]>\n",
      "<Response [405]>\n",
      "<Response [405]>\n",
      "<Response [405]>\n",
      "<Response [405]>\n",
      "<Response [405]>\n",
      "<Response [405]>\n",
      "<Response [405]>\n",
      "<Response [405]>\n",
      "<Response [405]>\n",
      "<Response [405]>\n",
      "<Response [405]>\n",
      "<Response [405]>\n",
      "<Response [405]>\n",
      "<Response [405]>\n",
      "<Response [405]>\n",
      "<Response [405]>\n",
      "<Response [405]>\n",
      "<Response [405]>\n",
      "<Response [405]>\n",
      "<Response [405]>\n",
      "<Response [405]>\n",
      "<Response [405]>\n",
      "<Response [405]>\n",
      "<Response [405]>\n",
      "<Response [405]>\n",
      "<Response [405]>\n",
      "<Response [405]>\n",
      "<Response [405]>\n",
      "<Response [405]>\n",
      "<Response [405]>\n",
      "<Response [405]>\n",
      "<Response [405]>\n",
      "<Response [405]>\n",
      "<Response [405]>\n",
      "<Response [405]>\n",
      "<Response [405]>\n",
      "<Response [405]>\n",
      "<Response [405]>\n",
      "<Response [405]>\n",
      "<Response [405]>\n",
      "<Response [405]>\n",
      "<Response [405]>\n",
      "<Response [405]>\n",
      "<Response [405]>\n",
      "<Response [405]>\n",
      "<Response [405]>\n",
      "<Response [405]>\n",
      "<Response [405]>\n",
      "<Response [405]>\n",
      "<Response [405]>\n",
      "<Response [405]>\n",
      "<Response [405]>\n",
      "<Response [405]>\n",
      "<Response [405]>\n",
      "<Response [405]>\n",
      "<Response [405]>\n",
      "<Response [405]>\n",
      "<Response [405]>\n",
      "<Response [405]>\n",
      "<Response [405]>\n",
      "<Response [405]>\n"
     ]
    }
   ],
   "source": [
    "valid_links = []\n",
    "\n",
    "for link in links:\n",
    "    r = requests.get(url)\n",
    "    print(r)"
   ]
  },
  {
   "cell_type": "code",
   "execution_count": null,
   "metadata": {
    "collapsed": true
   },
   "outputs": [],
   "source": []
  }
 ],
 "metadata": {
  "kernelspec": {
   "display_name": "Python 3",
   "language": "python",
   "name": "python3"
  },
  "language_info": {
   "codemirror_mode": {
    "name": "ipython",
    "version": 3
   },
   "file_extension": ".py",
   "mimetype": "text/x-python",
   "name": "python",
   "nbconvert_exporter": "python",
   "pygments_lexer": "ipython3",
   "version": "3.6.1"
  }
 },
 "nbformat": 4,
 "nbformat_minor": 2
}
